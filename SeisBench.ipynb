{
 "cells": [
  {
   "cell_type": "code",
   "execution_count": 19,
   "metadata": {},
   "outputs": [],
   "source": [
    "try:\n",
    "    import obspy\n",
    "    obspy.read()\n",
    "except TypeError:\n",
    "    # Needs to restart the runtime once, because obspy only works properly after restart.\n",
    "    print('Stopping RUNTIME. If you run this code for the first time, this is expected. Colaboratory will restart automatically. Please run again.')\n",
    "    exit()"
   ]
  },
  {
   "cell_type": "code",
   "execution_count": 20,
   "metadata": {},
   "outputs": [],
   "source": [
    "import obspy\n",
    "from obspy.clients.fdsn import Client\n",
    "from obspy import UTCDateTime\n",
    "from pyproj import CRS, Transformer\n",
    "import pandas as pd\n",
    "import numpy as np\n",
    "from collections import Counter\n",
    "from tqdm import tqdm\n",
    "import matplotlib.pyplot as plt\n",
    "import seaborn as sns\n",
    "import torch\n",
    "\n",
    "from gamma.utils import association\n",
    "import seisbench.models as sbm\n",
    "\n",
    "sns.set(font_scale=1.2)\n",
    "sns.set_style(\"ticks\")"
   ]
  },
  {
   "cell_type": "code",
   "execution_count": 21,
   "metadata": {},
   "outputs": [],
   "source": [
    "# Projections\n",
    "wgs84 = CRS.from_epsg(4326)\n",
    "local_crs = CRS.from_epsg(9155)  # SIRGAS-Chile 2016 / UTM zone 19S\n",
    "transformer = Transformer.from_crs(wgs84, local_crs)"
   ]
  },
  {
   "cell_type": "code",
   "execution_count": 22,
   "metadata": {},
   "outputs": [],
   "source": [
    "client = Client(\"GFZ\")\n",
    "\n",
    "t0 = UTCDateTime(\"2014/05/01 00:00:00\")\n",
    "t1 = t0 + 1 * 60 * 60\n",
    "# t1 = t0 + 24 * 60 * 60   # Full day, requires more memory\n",
    "stream = client.get_waveforms(network=\"CX\", station=\"*\", location=\"*\", channel=\"HH?\", starttime=t0, endtime=t1)\n",
    "\n",
    "inv = client.get_stations(network=\"CX\", station=\"*\", location=\"*\", channel=\"HH?\", starttime=t0, endtime=t1)"
   ]
  },
  {
   "cell_type": "code",
   "execution_count": 23,
   "metadata": {},
   "outputs": [
    {
     "data": {
      "text/plain": [
       "Counter({'P': 498, 'S': 266})"
      ]
     },
     "execution_count": 23,
     "metadata": {},
     "output_type": "execute_result"
    }
   ],
   "source": [
    "picker = sbm.PhaseNet.from_pretrained(\"instance\")\n",
    "\n",
    "r=1\n",
    "# if torch.cuda.is_available():\n",
    "#     picker.cuda()\n",
    "\n",
    "# We tuned the thresholds a bit - Feel free to play around with these values\n",
    "picks = picker.classify(stream, batch_size=256, P_threshold=0.075*r, S_threshold=0.1*r).picks\n",
    "\n",
    "Counter([p.phase for p in picks])  # Output number of P and S picks"
   ]
  },
  {
   "cell_type": "code",
   "execution_count": 24,
   "metadata": {},
   "outputs": [],
   "source": [
    "pick_df = []\n",
    "for p in picks:\n",
    "    pick_df.append({\n",
    "        \"id\": p.trace_id,\n",
    "        \"timestamp\": p.peak_time.datetime,\n",
    "        \"prob\": p.peak_value,\n",
    "        \"type\": p.phase.lower()\n",
    "    })\n",
    "pick_df = pd.DataFrame(pick_df)\n",
    "\n",
    "station_df = []\n",
    "for station in inv[0]:\n",
    "    station_df.append({\n",
    "        \"id\": f\"CX.{station.code}.\",\n",
    "        \"longitude\": station.longitude,\n",
    "        \"latitude\": station.latitude,\n",
    "        \"elevation(m)\": station.elevation\n",
    "    })\n",
    "station_df = pd.DataFrame(station_df)\n",
    "\n",
    "station_df[\"x(km)\"] = station_df.apply(lambda x: transformer.transform(x[\"latitude\"], x[\"longitude\"])[0] / 1e3, axis=1)\n",
    "station_df[\"y(km)\"] = station_df.apply(lambda x: transformer.transform(x[\"latitude\"], x[\"longitude\"])[1] / 1e3, axis=1)\n",
    "station_df[\"z(km)\"] = - station_df[\"elevation(m)\"] / 1e3"
   ]
  },
  {
   "cell_type": "code",
   "execution_count": 25,
   "metadata": {},
   "outputs": [],
   "source": [
    "config={}\n",
    "config[\"x(km)\"] = (250, 600)\n",
    "config[\"y(km)\"] = (7200, 8000)\n",
    "config[\"vel\"] = {\"P\": 7.0, \"S\": 7.0 / 1.75}  # We assume rather high velocities as we expect deeper \n",
    "config[\"z(km)\"] = (0, 150)\n",
    "config[\"ncpu\"] = 2\n",
    "config['P_phase']=True\n",
    "config['S_phase']=True\n",
    "\n",
    "config['epoch_before_decay']=500\n",
    "config['epoch_after_decay']=500"
   ]
  },
  {
   "cell_type": "markdown",
   "metadata": {},
   "source": []
  },
  {
   "cell_type": "code",
   "execution_count": 26,
   "metadata": {},
   "outputs": [],
   "source": [
    "import pickle\n",
    "\n",
    "with open('pick_df.pkl', 'wb') as f:\n",
    "    pickle.dump(pick_df, f)\n",
    "    \n",
    "with open('station_df.pkl', 'wb') as f:\n",
    "    pickle.dump(station_df, f)\n",
    "with open('config.pkl', 'wb') as f:\n",
    "    pickle.dump(config, f)\n"
   ]
  },
  {
   "cell_type": "code",
   "execution_count": 27,
   "metadata": {},
   "outputs": [],
   "source": [
    "import pickle\n",
    "\n",
    "# Load pick_df\n",
    "with open('pick_df.pkl', 'rb') as f:\n",
    "    pick_df = pickle.load(f)\n",
    "\n",
    "# Load station_df\n",
    "with open('station_df.pkl', 'rb') as f:\n",
    "    station_df = pickle.load(f)\n",
    "\n",
    "# Load config\n",
    "with open('config.pkl', 'rb') as f:\n",
    "    config = pickle.load(f)"
   ]
  },
  {
   "cell_type": "code",
   "execution_count": null,
   "metadata": {},
   "outputs": [
    {
     "data": {
      "application/vnd.jupyter.widget-view+json": {
       "model_id": "e19e3b7681254c0195447e830af64bd2",
       "version_major": 2,
       "version_minor": 0
      },
      "text/plain": [
       "  0%|          | 0/25 [00:00<?, ?it/s]"
      ]
     },
     "metadata": {},
     "output_type": "display_data"
    }
   ],
   "source": [
    "# import os\n",
    "# import sys\n",
    "# current_dir = os.getcwd()\n",
    "# parent_dir = os.path.abspath(os.path.join(current_dir, \"..\"))\n",
    "\n",
    "# if parent_dir not in sys.path:\n",
    "#     sys.path.append(parent_dir)\n",
    "from harpa import association\n",
    "import warnings\n",
    "warnings.filterwarnings(\"ignore\", category=UserWarning, message=\"This overload of addcmul_ is deprecated\")\n",
    "pick_df_out, catalog_df=association(pick_df,station_df,config,verbose=100)"
   ]
  },
  {
   "cell_type": "code",
   "execution_count": 45,
   "metadata": {},
   "outputs": [],
   "source": [
    "!export NUMBA_NUM_THREADS=40"
   ]
  },
  {
   "cell_type": "code",
   "execution_count": 40,
   "metadata": {},
   "outputs": [
    {
     "data": {
      "text/html": [
       "<div>\n",
       "<style scoped>\n",
       "    .dataframe tbody tr th:only-of-type {\n",
       "        vertical-align: middle;\n",
       "    }\n",
       "\n",
       "    .dataframe tbody tr th {\n",
       "        vertical-align: top;\n",
       "    }\n",
       "\n",
       "    .dataframe thead th {\n",
       "        text-align: right;\n",
       "    }\n",
       "</style>\n",
       "<table border=\"1\" class=\"dataframe\">\n",
       "  <thead>\n",
       "    <tr style=\"text-align: right;\">\n",
       "      <th></th>\n",
       "      <th>id</th>\n",
       "      <th>timestamp</th>\n",
       "      <th>prob</th>\n",
       "      <th>type</th>\n",
       "      <th>labels</th>\n",
       "    </tr>\n",
       "  </thead>\n",
       "  <tbody>\n",
       "    <tr>\n",
       "      <th>0</th>\n",
       "      <td>CX.MNMCX.</td>\n",
       "      <td>2014-05-01 00:00:13.850</td>\n",
       "      <td>0.805685</td>\n",
       "      <td>p</td>\n",
       "      <td>0</td>\n",
       "    </tr>\n",
       "    <tr>\n",
       "      <th>1</th>\n",
       "      <td>CX.MNMCX.</td>\n",
       "      <td>2014-05-01 00:00:27.980</td>\n",
       "      <td>0.351833</td>\n",
       "      <td>p</td>\n",
       "      <td>0</td>\n",
       "    </tr>\n",
       "    <tr>\n",
       "      <th>2</th>\n",
       "      <td>CX.MNMCX.</td>\n",
       "      <td>2014-05-01 00:00:39.360</td>\n",
       "      <td>0.106077</td>\n",
       "      <td>s</td>\n",
       "      <td>0</td>\n",
       "    </tr>\n",
       "    <tr>\n",
       "      <th>3</th>\n",
       "      <td>CX.MNMCX.</td>\n",
       "      <td>2014-05-01 00:04:27.210</td>\n",
       "      <td>0.617188</td>\n",
       "      <td>s</td>\n",
       "      <td>1</td>\n",
       "    </tr>\n",
       "    <tr>\n",
       "      <th>4</th>\n",
       "      <td>CX.MNMCX.</td>\n",
       "      <td>2014-05-01 00:08:11.290</td>\n",
       "      <td>0.628565</td>\n",
       "      <td>s</td>\n",
       "      <td>2</td>\n",
       "    </tr>\n",
       "    <tr>\n",
       "      <th>...</th>\n",
       "      <td>...</td>\n",
       "      <td>...</td>\n",
       "      <td>...</td>\n",
       "      <td>...</td>\n",
       "      <td>...</td>\n",
       "    </tr>\n",
       "    <tr>\n",
       "      <th>759</th>\n",
       "      <td>CX.PSGCX.</td>\n",
       "      <td>2014-05-01 00:52:29.310</td>\n",
       "      <td>0.987283</td>\n",
       "      <td>p</td>\n",
       "      <td>10</td>\n",
       "    </tr>\n",
       "    <tr>\n",
       "      <th>760</th>\n",
       "      <td>CX.PSGCX.</td>\n",
       "      <td>2014-05-01 00:56:50.840</td>\n",
       "      <td>0.509280</td>\n",
       "      <td>p</td>\n",
       "      <td>11</td>\n",
       "    </tr>\n",
       "    <tr>\n",
       "      <th>761</th>\n",
       "      <td>CX.PSGCX.</td>\n",
       "      <td>2014-05-01 00:59:09.450</td>\n",
       "      <td>0.784912</td>\n",
       "      <td>p</td>\n",
       "      <td>17</td>\n",
       "    </tr>\n",
       "    <tr>\n",
       "      <th>762</th>\n",
       "      <td>CX.PSGCX.</td>\n",
       "      <td>2014-05-01 00:59:34.480</td>\n",
       "      <td>0.686860</td>\n",
       "      <td>p</td>\n",
       "      <td>17</td>\n",
       "    </tr>\n",
       "    <tr>\n",
       "      <th>763</th>\n",
       "      <td>CX.PSGCX.</td>\n",
       "      <td>2014-05-01 00:59:45.180</td>\n",
       "      <td>0.314916</td>\n",
       "      <td>s</td>\n",
       "      <td>17</td>\n",
       "    </tr>\n",
       "  </tbody>\n",
       "</table>\n",
       "<p>764 rows × 5 columns</p>\n",
       "</div>"
      ],
      "text/plain": [
       "            id               timestamp      prob type  labels\n",
       "0    CX.MNMCX. 2014-05-01 00:00:13.850  0.805685    p       0\n",
       "1    CX.MNMCX. 2014-05-01 00:00:27.980  0.351833    p       0\n",
       "2    CX.MNMCX. 2014-05-01 00:00:39.360  0.106077    s       0\n",
       "3    CX.MNMCX. 2014-05-01 00:04:27.210  0.617188    s       1\n",
       "4    CX.MNMCX. 2014-05-01 00:08:11.290  0.628565    s       2\n",
       "..         ...                     ...       ...  ...     ...\n",
       "759  CX.PSGCX. 2014-05-01 00:52:29.310  0.987283    p      10\n",
       "760  CX.PSGCX. 2014-05-01 00:56:50.840  0.509280    p      11\n",
       "761  CX.PSGCX. 2014-05-01 00:59:09.450  0.784912    p      17\n",
       "762  CX.PSGCX. 2014-05-01 00:59:34.480  0.686860    p      17\n",
       "763  CX.PSGCX. 2014-05-01 00:59:45.180  0.314916    s      17\n",
       "\n",
       "[764 rows x 5 columns]"
      ]
     },
     "execution_count": 40,
     "metadata": {},
     "output_type": "execute_result"
    }
   ],
   "source": [
    "pick_df"
   ]
  }
 ],
 "metadata": {
  "kernelspec": {
   "display_name": "newtorch",
   "language": "python",
   "name": "python3"
  },
  "language_info": {
   "codemirror_mode": {
    "name": "ipython",
    "version": 3
   },
   "file_extension": ".py",
   "mimetype": "text/x-python",
   "name": "python",
   "nbconvert_exporter": "python",
   "pygments_lexer": "ipython3",
   "version": "3.10.8"
  }
 },
 "nbformat": 4,
 "nbformat_minor": 2
}
