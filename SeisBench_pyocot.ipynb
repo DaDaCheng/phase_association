{
 "cells": [
  {
   "cell_type": "code",
   "execution_count": 1,
   "metadata": {},
   "outputs": [],
   "source": [
    "!pip install -q scikit-learn pyproj seaborn pandas seisbench pyproj obspy"
   ]
  },
  {
   "cell_type": "code",
   "execution_count": 8,
   "metadata": {},
   "outputs": [
    {
     "name": "stdout",
     "output_type": "stream",
     "text": [
      "Collecting pyocto\n",
      "  Downloading pyocto-0.1.7-cp39-cp39-manylinux_2_17_x86_64.manylinux2014_x86_64.whl.metadata (4.0 kB)\n",
      "Requirement already satisfied: numpy>=1.21.6 in /scicore/home/dokman0000/shi0000/anaconda3/envs/harpa/lib/python3.9/site-packages (from pyocto) (1.26.4)\n",
      "Requirement already satisfied: pandas>=1.1 in /scicore/home/dokman0000/shi0000/anaconda3/envs/harpa/lib/python3.9/site-packages (from pyocto) (2.2.3)\n",
      "Requirement already satisfied: pyproj in /scicore/home/dokman0000/shi0000/anaconda3/envs/harpa/lib/python3.9/site-packages (from pyocto) (3.6.1)\n",
      "Requirement already satisfied: python-dateutil>=2.8.2 in /scicore/home/dokman0000/shi0000/anaconda3/envs/harpa/lib/python3.9/site-packages (from pandas>=1.1->pyocto) (2.9.0)\n",
      "Requirement already satisfied: pytz>=2020.1 in /scicore/home/dokman0000/shi0000/anaconda3/envs/harpa/lib/python3.9/site-packages (from pandas>=1.1->pyocto) (2024.2)\n",
      "Requirement already satisfied: tzdata>=2022.7 in /scicore/home/dokman0000/shi0000/anaconda3/envs/harpa/lib/python3.9/site-packages (from pandas>=1.1->pyocto) (2024.2)\n",
      "Requirement already satisfied: certifi in /scicore/home/dokman0000/shi0000/anaconda3/envs/harpa/lib/python3.9/site-packages (from pyproj->pyocto) (2024.8.30)\n",
      "Requirement already satisfied: six>=1.5 in /scicore/home/dokman0000/shi0000/anaconda3/envs/harpa/lib/python3.9/site-packages (from python-dateutil>=2.8.2->pandas>=1.1->pyocto) (1.16.0)\n",
      "Downloading pyocto-0.1.7-cp39-cp39-manylinux_2_17_x86_64.manylinux2014_x86_64.whl (165 kB)\n",
      "Installing collected packages: pyocto\n",
      "Successfully installed pyocto-0.1.7\n"
     ]
    }
   ],
   "source": [
    "!pip install pyocto"
   ]
  },
  {
   "cell_type": "code",
   "execution_count": 1,
   "metadata": {},
   "outputs": [],
   "source": [
    "try:\n",
    "    import obspy\n",
    "    obspy.read()\n",
    "except TypeError:\n",
    "    # Needs to restart the runtime once, because obspy only works properly after restart.\n",
    "    print('Stopping RUNTIME. If you run this code for the first time, this is expected. Colaboratory will restart automatically. Please run again.')\n",
    "    exit()"
   ]
  },
  {
   "cell_type": "code",
   "execution_count": 2,
   "metadata": {},
   "outputs": [],
   "source": [
    "import obspy\n",
    "from obspy.clients.fdsn import Client\n",
    "from obspy import UTCDateTime\n",
    "from pyproj import CRS, Transformer\n",
    "import pandas as pd\n",
    "import numpy as np\n",
    "from collections import Counter\n",
    "from tqdm import tqdm\n",
    "import matplotlib.pyplot as plt\n",
    "import seaborn as sns\n",
    "import torch\n",
    "pd.set_option('future.no_silent_downcasting', True)\n",
    "import seisbench.models as sbm\n",
    "\n",
    "sns.set(font_scale=1.2)\n",
    "sns.set_style(\"ticks\")"
   ]
  },
  {
   "cell_type": "code",
   "execution_count": 3,
   "metadata": {},
   "outputs": [],
   "source": [
    "# Projections\n",
    "wgs84 = CRS.from_epsg(4326)\n",
    "local_crs = CRS.from_epsg(9155)  # SIRGAS-Chile 2016 / UTM zone 19S\n",
    "transformer = Transformer.from_crs(wgs84, local_crs)"
   ]
  },
  {
   "cell_type": "code",
   "execution_count": 4,
   "metadata": {},
   "outputs": [],
   "source": [
    "client = Client(\"GFZ\")\n",
    "\n",
    "t0 = UTCDateTime(\"2014/05/01 00:00:00\")\n",
    "t1 = t0 + 12 * 60 * 60\n",
    "# t1 = t0 + 24 * 60 * 60   # Full day, requires more memory\n",
    "stream = client.get_waveforms(network=\"CX\", station=\"*\", location=\"*\", channel=\"HH?\", starttime=t0, endtime=t1)\n",
    "\n",
    "inv = client.get_stations(network=\"CX\", station=\"*\", location=\"*\", channel=\"HH?\", starttime=t0, endtime=t1)"
   ]
  },
  {
   "cell_type": "code",
   "execution_count": 5,
   "metadata": {},
   "outputs": [],
   "source": [
    "config={}\n",
    "config[\"x(km)\"] = (250, 600)\n",
    "config[\"y(km)\"] = (7200, 8000)\n",
    "config[\"vel\"] = {\"P\": 7.0, \"S\": 7.0 / 1.75} \n",
    "config[\"z(km)\"] = (0, 250)\n",
    "config[\"ncpu\"] = 2\n",
    "config['P_phase']=True\n",
    "config['S_phase']=True\n",
    "config['min_peak_pre_event']= 16\n",
    "config['min_peak_pre_event_s']= 4\n",
    "config['min_peak_pre_event_p']= 4\n",
    "        "
   ]
  },
  {
   "cell_type": "code",
   "execution_count": 6,
   "metadata": {},
   "outputs": [
    {
     "name": "stderr",
     "output_type": "stream",
     "text": [
      "2024-11-16 00:24:44,224 | seisbench | WARNING | Setting remote root to: https://seisbench.gfz-potsdam.de/mirror/\n",
      "Please note that this can affect your download speed.\n"
     ]
    },
    {
     "name": "stderr",
     "output_type": "stream",
     "text": [
      "/scicore/home/dokman0000/shi0000/anaconda3/envs/harpa/lib/python3.9/site-packages/seisbench/models/base.py:489: FutureWarning: You are using `torch.load` with `weights_only=False` (the current default value), which uses the default pickle module implicitly. It is possible to construct malicious pickle data which will execute arbitrary code during unpickling (See https://github.com/pytorch/pytorch/blob/main/SECURITY.md#untrusted-models for more details). In a future release, the default value for `weights_only` will be flipped to `True`. This limits the functions that could be executed during unpickling. Arbitrary objects will no longer be allowed to be loaded via this mode unless they are explicitly allowlisted by the user via `torch.serialization.add_safe_globals`. We recommend you start setting `weights_only=True` for any use case where you don't have full control of the loaded file. Please open an issue on GitHub for any issues related to this experimental feature.\n",
      "  model_weights = torch.load(f\"{path_pt}\")\n"
     ]
    }
   ],
   "source": [
    "import seisbench\n",
    "import torch\n",
    "torch.set_num_threads(1)\n",
    "seisbench.use_backup_repository()\n",
    "picker = sbm.PhaseNet.from_pretrained(\"instance\")\n",
    "\n"
   ]
  },
  {
   "cell_type": "code",
   "execution_count": 9,
   "metadata": {},
   "outputs": [
    {
     "name": "stderr",
     "output_type": "stream",
     "text": [
      "The required number of P picks per event (3) is lower than the number of stations with both P and S pick (4). The effective number of P picks required will be 4.\n",
      "The required number of S picks per event (3) is lower than the number of stations with both P and S pick (4). The effective number of S picks required will be 4.\n"
     ]
    },
    {
     "name": "stdout",
     "output_type": "stream",
     "text": [
      "1 7399 181 Counter({'P': 4903, 'S': 2496})\n"
     ]
    },
    {
     "name": "stderr",
     "output_type": "stream",
     "text": [
      "The required number of P picks per event (3) is lower than the number of stations with both P and S pick (4). The effective number of P picks required will be 4.\n",
      "The required number of S picks per event (3) is lower than the number of stations with both P and S pick (4). The effective number of S picks required will be 4.\n"
     ]
    },
    {
     "name": "stdout",
     "output_type": "stream",
     "text": [
      "0.5 9349 210 Counter({'P': 6311, 'S': 3038})\n"
     ]
    },
    {
     "name": "stderr",
     "output_type": "stream",
     "text": [
      "The required number of P picks per event (3) is lower than the number of stations with both P and S pick (4). The effective number of P picks required will be 4.\n",
      "The required number of S picks per event (3) is lower than the number of stations with both P and S pick (4). The effective number of S picks required will be 4.\n"
     ]
    },
    {
     "name": "stdout",
     "output_type": "stream",
     "text": [
      "0.1 15510 272 Counter({'P': 11024, 'S': 4486})\n"
     ]
    },
    {
     "name": "stderr",
     "output_type": "stream",
     "text": [
      "The required number of P picks per event (3) is lower than the number of stations with both P and S pick (4). The effective number of P picks required will be 4.\n",
      "The required number of S picks per event (3) is lower than the number of stations with both P and S pick (4). The effective number of S picks required will be 4.\n"
     ]
    },
    {
     "name": "stdout",
     "output_type": "stream",
     "text": [
      "0.05 19065 300 Counter({'P': 13698, 'S': 5367})\n"
     ]
    },
    {
     "name": "stderr",
     "output_type": "stream",
     "text": [
      "The required number of P picks per event (3) is lower than the number of stations with both P and S pick (4). The effective number of P picks required will be 4.\n",
      "The required number of S picks per event (3) is lower than the number of stations with both P and S pick (4). The effective number of S picks required will be 4.\n"
     ]
    },
    {
     "name": "stdout",
     "output_type": "stream",
     "text": [
      "0.01 31342 381 Counter({'P': 22221, 'S': 9121})\n"
     ]
    }
   ],
   "source": [
    "npicks_list=[]\n",
    "harparesults_list=[]\n",
    "import pyocto\n",
    "for r in [1,0.5,0.1,0.05,0.01]:\n",
    "    picks = picker.classify(stream, batch_size=256, P_threshold=0.075*r, S_threshold=0.1*r).picks\n",
    "      # Output number of P and S picks\n",
    "    npicks_list.append(len(picks))\n",
    "    velocity_model = pyocto.VelocityModel0D(\n",
    "    p_velocity=7.0,\n",
    "    s_velocity=4.0,\n",
    "    tolerance=2.0,\n",
    "    association_cutoff_distance=250,\n",
    "    )\n",
    "\n",
    "    associator = pyocto.OctoAssociator.from_area(\n",
    "        lat=(-25, -18),\n",
    "        lon=(-71.5, -68),\n",
    "        zlim=(0, 200),\n",
    "        time_before=300,\n",
    "        velocity_model=velocity_model,\n",
    "        n_picks=10,\n",
    "        n_p_and_s_picks=4,\n",
    "    )\n",
    "    stations = associator.inventory_to_df(inv)\n",
    "    events, assignments = associator.associate_seisbench(picks, stations)\n",
    "    associator.transform_events(events)\n",
    "    harparesults_list.append(len(events))\n",
    "    print(r,len(picks),len(events),Counter([p.phase for p in picks]))\n",
    "    "
   ]
  },
  {
   "cell_type": "code",
   "execution_count": null,
   "metadata": {},
   "outputs": [],
   "source": []
  },
  {
   "cell_type": "markdown",
   "metadata": {},
   "source": []
  },
  {
   "cell_type": "code",
   "execution_count": null,
   "metadata": {},
   "outputs": [],
   "source": []
  },
  {
   "cell_type": "code",
   "execution_count": null,
   "metadata": {},
   "outputs": [],
   "source": []
  },
  {
   "cell_type": "code",
   "execution_count": null,
   "metadata": {},
   "outputs": [
    {
     "name": "stderr",
     "output_type": "stream",
     "text": [
      " 20%|██        | 5/25 [00:32<02:03,  6.19s/it]"
     ]
    }
   ],
   "source": []
  },
  {
   "cell_type": "code",
   "execution_count": null,
   "metadata": {},
   "outputs": [],
   "source": [
    "# import pickle\n",
    "\n",
    "# with open('pick_df.pkl', 'wb') as f:\n",
    "#     pickle.dump(pick_df, f)\n",
    "    \n",
    "# with open('station_df.pkl', 'wb') as f:\n",
    "#     pickle.dump(station_df, f)\n",
    "# with open('config.pkl', 'wb') as f:\n",
    "#     pickle.dump(config, f)\n",
    "    \n",
    "    \n",
    "# import pickle\n",
    "\n",
    "# # Load pick_df\n",
    "# with open('pick_df.pkl', 'rb') as f:\n",
    "#     pick_df = pickle.load(f)\n",
    "\n",
    "# # Load station_df\n",
    "# with open('station_df.pkl', 'rb') as f:\n",
    "#     station_df = pickle.load(f)\n",
    "\n",
    "# # Load config\n",
    "# with open('config.pkl', 'rb') as f:\n",
    "#     config = pickle.load(f)\n"
   ]
  }
 ],
 "metadata": {
  "kernelspec": {
   "display_name": "harpa",
   "language": "python",
   "name": "python3"
  },
  "language_info": {
   "codemirror_mode": {
    "name": "ipython",
    "version": 3
   },
   "file_extension": ".py",
   "mimetype": "text/x-python",
   "name": "python",
   "nbconvert_exporter": "python",
   "pygments_lexer": "ipython3",
   "version": "3.9.20"
  }
 },
 "nbformat": 4,
 "nbformat_minor": 2
}
